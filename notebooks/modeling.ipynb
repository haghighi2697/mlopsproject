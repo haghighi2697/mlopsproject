{
 "cells": [
  {
   "cell_type": "code",
   "execution_count": 1,
   "metadata": {},
   "outputs": [
    {
     "name": "stderr",
     "output_type": "stream",
     "text": [
      "/Users/monahaghighi/opt/anaconda3/envs/simple_environment/lib/python3.6/site-packages/paramiko/transport.py:33: CryptographyDeprecationWarning: Python 3.6 is no longer supported by the Python core team. Therefore, support for it is deprecated in cryptography and will be removed in a future release.\n",
      "  from cryptography.hazmat.backends import default_backend\n",
      "/Users/monahaghighi/opt/anaconda3/envs/simple_environment/lib/python3.6/site-packages/ipykernel_launcher.py:1: FutureWarning: azureml.core: AzureML support for Python 3.6 is deprecated and will be dropped in an upcoming release. At that point, existing Python 3.6 workflows that use AzureML will continue to work without modification, but Python 3.6 users will no longer get access to the latest AzureML features and bugfixes. We recommend that you upgrade to Python 3.7 or newer. To disable SDK V1 deprecation warning set the environment variable AZUREML_DEPRECATE_WARNING to 'False'\n",
      "  \"\"\"Entry point for launching an IPython kernel.\n"
     ]
    },
    {
     "name": "stdout",
     "output_type": "stream",
     "text": [
      "Ready to use Azure ML 1.47.0 to work with mlopsprojectNEW\n"
     ]
    }
   ],
   "source": [
    "import azureml.core\n",
    "from azureml.core import Workspace\n",
    "\n",
    "# Load the workspace from the saved config file\n",
    "ws = Workspace.from_config()\n",
    "print('Ready to use Azure ML {} to work with {}'.format(azureml.core.VERSION, ws.name))"
   ]
  },
  {
   "cell_type": "code",
   "execution_count": 2,
   "metadata": {},
   "outputs": [
    {
     "name": "stderr",
     "output_type": "stream",
     "text": [
      "/Users/monahaghighi/opt/anaconda3/envs/simple_environment/lib/python3.6/site-packages/ipykernel_launcher.py:1: FutureWarning: MLflow support for Python 3.6 is deprecated and will be dropped in an upcoming release. At that point, existing Python 3.6 workflows that use MLflow will continue to work without modification, but Python 3.6 users will no longer get access to the latest MLflow features and bugfixes. We recommend that you upgrade to Python 3.7 or newer.\n",
      "  \"\"\"Entry point for launching an IPython kernel.\n"
     ]
    }
   ],
   "source": [
    "import mlflow\n",
    "import mlflow.sklearn\n",
    "import pandas as pd\n",
    "import numpy as np\n",
    "import joblib\n",
    "from sklearn.model_selection import train_test_split\n",
    "from sklearn.ensemble import RandomForestClassifier\n",
    "from sklearn.metrics import roc_auc_score, roc_curve\n",
    "import os"
   ]
  },
  {
   "cell_type": "code",
   "execution_count": 4,
   "metadata": {},
   "outputs": [
    {
     "name": "stdout",
     "output_type": "stream",
     "text": [
      "Loading Data...\n"
     ]
    }
   ],
   "source": [
    "# Start MLflow run\n",
    "# End any active run\n",
    "if mlflow.active_run():\n",
    "    mlflow.end_run()\n",
    "\n",
    "# Start MLflow run\n",
    "mlflow.start_run()\n",
    "\n",
    "# Set experiment name (optional, if not set, a default experiment is used)\n",
    "mlflow.set_experiment('churn_train_mlflow')\n",
    "\n",
    "print(\"Loading Data...\")\n",
    "df = pd.read_csv('data/Churn_Modelling.csv')\n",
    "df_encoded = pd.get_dummies(df[['Geography', 'Gender']], drop_first=True)\n",
    "df = df.drop(['Geography', 'Gender'], axis=1)\n",
    "df_combined = pd.concat([df, df_encoded], axis=1)\n",
    "\n",
    "# Separate features and labels\n",
    "y = df_combined[['Exited']].values\n",
    "X = df_combined[['CreditScore','Age','Tenure','Balance','NumOfProducts','HasCrCard','IsActiveMember','EstimatedSalary','Geography_Germany','Geography_Spain','Gender_Male']].values\n",
    "\n",
    "# Split data into 80% training, 10% test, and 10% holdout\n",
    "X_train, X_temp, y_train, y_temp = train_test_split(X, y, test_size=0.2, random_state=42)"
   ]
  },
  {
   "cell_type": "code",
   "execution_count": 5,
   "metadata": {},
   "outputs": [
    {
     "name": "stdout",
     "output_type": "stream",
     "text": [
      "Training a Random Forest model\n"
     ]
    },
    {
     "name": "stderr",
     "output_type": "stream",
     "text": [
      "/Users/monahaghighi/opt/anaconda3/envs/simple_environment/lib/python3.6/site-packages/ipykernel_launcher.py:6: DataConversionWarning: A column-vector y was passed when a 1d array was expected. Please change the shape of y to (n_samples,), for example using ravel().\n",
      "  \n"
     ]
    },
    {
     "name": "stdout",
     "output_type": "stream",
     "text": [
      "Accuracy: 0.756312\n",
      "AUC: 0.8425701905464883\n"
     ]
    }
   ],
   "source": [
    "# Further split the temp data into 50% for test and 50% for holdout (10% each of original data)\n",
    "X_test, X_holdout, y_test, y_holdout = train_test_split(X_temp, y_temp, test_size=0.5, random_state=42)\n",
    "\n",
    "# Train a Random Forest model\n",
    "print('Training a Random Forest model')\n",
    "model = RandomForestClassifier(n_estimators=100, random_state=42).fit(X_train, y_train)\n",
    "\n",
    "# Log model parameters (optional)\n",
    "mlflow.log_param(\"n_estimators\", model.n_estimators)\n",
    "mlflow.log_param(\"criterion\", model.criterion)\n",
    "mlflow.log_param(\"max_depth\", model.max_depth)\n",
    "\n",
    "# Calculate accuracy\n",
    "y_hat = model.predict(X_test)\n",
    "acc = np.average(y_hat == y_test)\n",
    "print('Accuracy:', acc)\n",
    "mlflow.log_metric('Accuracy', acc)\n",
    "\n",
    "# Calculate AUC\n",
    "y_scores = model.predict_proba(X_test)\n",
    "auc = roc_auc_score(y_test, y_scores[:, 1])\n",
    "print('AUC:', auc)\n",
    "mlflow.log_metric('AUC', auc)"
   ]
  },
  {
   "cell_type": "code",
   "execution_count": 6,
   "metadata": {},
   "outputs": [
    {
     "name": "stdout",
     "output_type": "stream",
     "text": [
      "Model saved to outputs/churn_model.pkl\n"
     ]
    }
   ],
   "source": [
    "# Save the trained model locally\n",
    "model_file = 'churn_model.pkl'\n",
    "output_dir = 'outputs'\n",
    "os.makedirs(output_dir, exist_ok=True)\n",
    "model_file_path = os.path.join(output_dir, model_file)\n",
    "joblib.dump(value=model, filename=model_file_path)\n",
    "\n",
    "print(f\"Model saved to {model_file_path}\")\n",
    "\n",
    "# Log the model with MLflow\n",
    "mlflow.sklearn.log_model(model, \"model\")\n",
    "# Log the saved model file\n",
    "mlflow.log_artifact(model_file_path, artifact_path=\"outputs\")"
   ]
  },
  {
   "cell_type": "code",
   "execution_count": 7,
   "metadata": {},
   "outputs": [
    {
     "name": "stdout",
     "output_type": "stream",
     "text": [
      "Run completed, holdout set saved and logged.\n"
     ]
    }
   ],
   "source": [
    "# Save and log the holdout set for later use\n",
    "holdout_file_path = os.path.join(output_dir, 'holdout_set.pkl')\n",
    "joblib.dump((X_holdout, y_holdout), holdout_file_path)\n",
    "mlflow.log_artifact(holdout_file_path, artifact_path=\"outputs\")\n",
    "\n",
    "# End MLflow run\n",
    "mlflow.end_run()\n",
    "\n",
    "print(\"Run completed, holdout set saved and logged.\")"
   ]
  }
 ],
 "metadata": {
  "kernelspec": {
   "display_name": "Python 3",
   "language": "python",
   "name": "python3"
  },
  "language_info": {
   "codemirror_mode": {
    "name": "ipython",
    "version": 3
   },
   "file_extension": ".py",
   "mimetype": "text/x-python",
   "name": "python",
   "nbconvert_exporter": "python",
   "pygments_lexer": "ipython3",
   "version": "3.6.13"
  }
 },
 "nbformat": 4,
 "nbformat_minor": 2
}
